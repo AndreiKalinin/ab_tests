{
 "cells": [
  {
   "cell_type": "markdown",
   "metadata": {},
   "source": [
    "# A/B тестирование: t-тест"
   ]
  },
  {
   "cell_type": "markdown",
   "metadata": {},
   "source": [
    "#### Постановка задачи"
   ]
  },
  {
   "cell_type": "markdown",
   "metadata": {},
   "source": [
    "Небходимо выяснить, повлияет ли изменение дизайна мобильного приложения на длительность пользовательской сессии. "
   ]
  },
  {
   "cell_type": "markdown",
   "metadata": {},
   "source": [
    "#### Формулирование гипотез"
   ]
  },
  {
   "cell_type": "markdown",
   "metadata": {},
   "source": [
    "Нулевая гипотеза: дизайн приложения не влияет на продолжительность сессии. \n",
    "Альтернативная гипотеза: продолжительность сессии зависит от дизайна приложения (двусторонняя гипотеза). Зададим уровень значимости 0.05."
   ]
  },
  {
   "cell_type": "markdown",
   "metadata": {},
   "source": [
    "#### Дизайн эксперимента"
   ]
  },
  {
   "cell_type": "markdown",
   "metadata": {},
   "source": [
    "Необходимо разделить участников эксперимента на две группы:\n",
    "1. Контрольная группа (control) - им будет показан старый дизайн.\n",
    "2. Экспериментальная группа (treatment) - им будет показан новый дизайн.\n",
    "Затем проверим, являются различия продолжительности сессии в группах статистически значимыми."
   ]
  },
  {
   "cell_type": "markdown",
   "metadata": {},
   "source": [
    "#### Определение размера выборки"
   ]
  },
  {
   "cell_type": "markdown",
   "metadata": {},
   "source": [
    "В нашем распоряжении имеются данные о продолжительности сессии за последний месяц."
   ]
  },
  {
   "cell_type": "code",
   "execution_count": 1,
   "metadata": {},
   "outputs": [
    {
     "data": {
      "text/html": [
       "<div>\n",
       "<style scoped>\n",
       "    .dataframe tbody tr th:only-of-type {\n",
       "        vertical-align: middle;\n",
       "    }\n",
       "\n",
       "    .dataframe tbody tr th {\n",
       "        vertical-align: top;\n",
       "    }\n",
       "\n",
       "    .dataframe thead th {\n",
       "        text-align: right;\n",
       "    }\n",
       "</style>\n",
       "<table border=\"1\" class=\"dataframe\">\n",
       "  <thead>\n",
       "    <tr style=\"text-align: right;\">\n",
       "      <th></th>\n",
       "      <th>user_id</th>\n",
       "      <th>os</th>\n",
       "      <th>start</th>\n",
       "      <th>end</th>\n",
       "    </tr>\n",
       "  </thead>\n",
       "  <tbody>\n",
       "    <tr>\n",
       "      <th>0</th>\n",
       "      <td>183828</td>\n",
       "      <td>iOS</td>\n",
       "      <td>2021-11-01 00:06:04</td>\n",
       "      <td>2021-11-01 00:14:21</td>\n",
       "    </tr>\n",
       "    <tr>\n",
       "      <th>1</th>\n",
       "      <td>248830</td>\n",
       "      <td>Android</td>\n",
       "      <td>2021-11-01 00:06:20</td>\n",
       "      <td>2021-11-01 00:18:39</td>\n",
       "    </tr>\n",
       "    <tr>\n",
       "      <th>2</th>\n",
       "      <td>133523</td>\n",
       "      <td>Android</td>\n",
       "      <td>2021-11-01 00:14:51</td>\n",
       "      <td>2021-11-01 00:19:17</td>\n",
       "    </tr>\n",
       "    <tr>\n",
       "      <th>3</th>\n",
       "      <td>290996</td>\n",
       "      <td>Android</td>\n",
       "      <td>2021-11-01 00:25:37</td>\n",
       "      <td>2021-11-01 00:39:53</td>\n",
       "    </tr>\n",
       "    <tr>\n",
       "      <th>4</th>\n",
       "      <td>134265</td>\n",
       "      <td>iOS</td>\n",
       "      <td>2021-11-01 00:27:11</td>\n",
       "      <td>2021-11-01 00:38:49</td>\n",
       "    </tr>\n",
       "  </tbody>\n",
       "</table>\n",
       "</div>"
      ],
      "text/plain": [
       "   user_id       os                start                  end\n",
       "0   183828      iOS  2021-11-01 00:06:04  2021-11-01 00:14:21\n",
       "1   248830  Android  2021-11-01 00:06:20  2021-11-01 00:18:39\n",
       "2   133523  Android  2021-11-01 00:14:51  2021-11-01 00:19:17\n",
       "3   290996  Android  2021-11-01 00:25:37  2021-11-01 00:39:53\n",
       "4   134265      iOS  2021-11-01 00:27:11  2021-11-01 00:38:49"
      ]
     },
     "execution_count": 1,
     "metadata": {},
     "output_type": "execute_result"
    }
   ],
   "source": [
    "import numpy as np\n",
    "import pandas as pd\n",
    "import matplotlib.pyplot as plt\n",
    "import seaborn as sns\n",
    "from scipy.stats import shapiro, norm, bartlett, ttest_ind, bootstrap\n",
    "from statsmodels.stats.power import tt_ind_solve_power, TTestIndPower\n",
    "from math import ceil\n",
    "from random import sample\n",
    "from tqdm.notebook import tqdm\n",
    "\n",
    "previous_data = pd.read_csv('test_data_4.csv')\n",
    "previous_data.head()"
   ]
  },
  {
   "cell_type": "code",
   "execution_count": 2,
   "metadata": {},
   "outputs": [
    {
     "name": "stdout",
     "output_type": "stream",
     "text": [
      "<class 'pandas.core.frame.DataFrame'>\n",
      "RangeIndex: 5000 entries, 0 to 4999\n",
      "Data columns (total 4 columns):\n",
      " #   Column   Non-Null Count  Dtype \n",
      "---  ------   --------------  ----- \n",
      " 0   user_id  5000 non-null   int64 \n",
      " 1   os       5000 non-null   object\n",
      " 2   start    5000 non-null   object\n",
      " 3   end      5000 non-null   object\n",
      "dtypes: int64(1), object(3)\n",
      "memory usage: 97.7+ KB\n"
     ]
    }
   ],
   "source": [
    "previous_data.info()"
   ]
  },
  {
   "cell_type": "markdown",
   "metadata": {},
   "source": [
    "Пропусков нет, приведем колонки с датой и временем к типу datetime."
   ]
  },
  {
   "cell_type": "code",
   "execution_count": 3,
   "metadata": {},
   "outputs": [],
   "source": [
    "previous_data['start'] = pd.to_datetime(previous_data['start'], format='%Y/%m/%d')\n",
    "previous_data['end'] = pd.to_datetime(previous_data['end'], format='%Y/%m/%d')"
   ]
  },
  {
   "cell_type": "markdown",
   "metadata": {},
   "source": [
    "Найдем длительность каждой сессии. Рассчитаем описательные статистики и посторим гистограмму распределения."
   ]
  },
  {
   "cell_type": "code",
   "execution_count": 4,
   "metadata": {},
   "outputs": [
    {
     "data": {
      "text/plain": [
       "count    5000.000000\n",
       "mean      601.201200\n",
       "std       151.194104\n",
       "min       134.000000\n",
       "25%       499.000000\n",
       "50%       602.000000\n",
       "75%       703.000000\n",
       "max      1162.000000\n",
       "Name: time_delta, dtype: float64"
      ]
     },
     "execution_count": 4,
     "metadata": {},
     "output_type": "execute_result"
    }
   ],
   "source": [
    "previous_data['time_delta'] = previous_data['end'] - previous_data['start']\n",
    "previous_data['time_delta'] = previous_data['time_delta'].dt.total_seconds()\n",
    "previous_data.describe()['time_delta']"
   ]
  },
  {
   "cell_type": "code",
   "execution_count": 5,
   "metadata": {},
   "outputs": [
    {
     "data": {
      "image/png": "[encoded data removed]",
      "text/plain": [
       "<Figure size 432x288 with 1 Axes>"
      ]
     },
     "metadata": {
      "needs_background": "light"
     },
     "output_type": "display_data"
    }
   ],
   "source": [
    "plt.rc('axes', axisbelow=True)\n",
    "plt.hist(previous_data['time_delta'])\n",
    "plt.grid()\n",
    "plt.show()"
   ]
  },
  {
   "cell_type": "markdown",
   "metadata": {},
   "source": [
    "Проверим, является ли распределение нормальным с помощью теста Шапиро-Уилка."
   ]
  },
  {
   "cell_type": "code",
   "execution_count": 6,
   "metadata": {},
   "outputs": [
    {
     "data": {
      "text/plain": [
       "ShapiroResult(statistic=0.9994502663612366, pvalue=0.1479310840368271)"
      ]
     },
     "execution_count": 6,
     "metadata": {},
     "output_type": "execute_result"
    }
   ],
   "source": [
    "shapiro(previous_data['time_delta'])"
   ]
  },
  {
   "cell_type": "markdown",
   "metadata": {},
   "source": [
    "Результаты теста Шапиро-Уилка подтверждают гипотезу о том, что данные распределены нормально."
   ]
  },
  {
   "cell_type": "markdown",
   "metadata": {},
   "source": [
    "Рассчитаем размер эффекта с помощью оценки d Коэна по следующей формуле:"
   ]
  },
  {
   "cell_type": "markdown",
   "metadata": {},
   "source": [
    "$$d = \\frac{M_{2} - M_{1}}{\\frac{\\sqrt{S_{1}^2 + S_{2}^2}}{2}}$$"
   ]
  },
  {
   "cell_type": "code",
   "execution_count": 7,
   "metadata": {},
   "outputs": [],
   "source": [
    "effect_size = previous_data['time_delta'].mean() * 0.1 / np.std(previous_data['time_delta'], ddof=1)"
   ]
  },
  {
   "cell_type": "markdown",
   "metadata": {},
   "source": [
    "Рассчитаем необходимый объем выборки при планируемом увеличении продолжительности сессии на 10%, мощности 0.8 и ошибке первого рода = 0.05."
   ]
  },
  {
   "cell_type": "code",
   "execution_count": 8,
   "metadata": {},
   "outputs": [
    {
     "data": {
      "text/plain": [
       "101"
      ]
     },
     "execution_count": 8,
     "metadata": {},
     "output_type": "execute_result"
    }
   ],
   "source": [
    "ceil(tt_ind_solve_power(effect_size=effect_size,\n",
    "                   power=0.8, \n",
    "                   alpha=0.05,\n",
    "                   ratio=1))"
   ]
  },
  {
   "cell_type": "markdown",
   "metadata": {},
   "source": [
    "Для проведения экперимента необходимо по 101 участникe в каждой группе."
   ]
  },
  {
   "cell_type": "markdown",
   "metadata": {},
   "source": [
    "#### AA-тест"
   ]
  },
  {
   "cell_type": "markdown",
   "metadata": {},
   "source": [
    "Убедимся, что в имеющихся данных статистический критерий (t-тест Стьюдента) не выявит различий. Для этого 10 000 раз извлечем по две выборки, сравним друг с другом и посчитаем процент ложноположительных срабатываний."
   ]
  },
  {
   "cell_type": "code",
   "execution_count": 9,
   "metadata": {},
   "outputs": [
    {
     "data": {
      "application/vnd.jupyter.widget-view+json": {
       "model_id": "9d99540020bb4cff8bed8ad7bcb744f6",
       "version_major": 2,
       "version_minor": 0
      },
      "text/plain": [
       "HBox(children=(FloatProgress(value=0.0, max=10000.0), HTML(value='')))"
      ]
     },
     "metadata": {},
     "output_type": "display_data"
    },
    {
     "name": "stdout",
     "output_type": "stream",
     "text": [
      "\n",
      "Количество ложноположительных срабатываний:  0\n",
      "Процент ложноположительных срабатываний:  0.0\n"
     ]
    }
   ],
   "source": [
    "previous_data = list(previous_data['time_delta'])\n",
    "sample_size = 101\n",
    "cnt = 0\n",
    "for i in tqdm(range(10000)):\n",
    "    sample_data = sample(previous_data, 202)\n",
    "    sample_x = previous_data[:sample_size]\n",
    "    sample_y = previous_data[sample_size:]\n",
    "    if ttest_ind(sample_x, sample_y)[1] < 0.05:\n",
    "        cnt += 1\n",
    "print(\"Количество ложноположительных срабатываний: \", cnt)\n",
    "print(\"Процент ложноположительных срабатываний: \", round(cnt / 10000 * 100, 2))"
   ]
  },
  {
   "cell_type": "markdown",
   "metadata": {},
   "source": [
    "Ложноположительных срабатываний не выявлено, во всех случаях t-тест корректно определил отсутствие различий между выборками, взятыми из одной совокупности."
   ]
  },
  {
   "cell_type": "markdown",
   "metadata": {},
   "source": [
    "#### Сбор и обработка данных"
   ]
  },
  {
   "cell_type": "code",
   "execution_count": 10,
   "metadata": {},
   "outputs": [
    {
     "data": {
      "text/html": [
       "<div>\n",
       "<style scoped>\n",
       "    .dataframe tbody tr th:only-of-type {\n",
       "        vertical-align: middle;\n",
       "    }\n",
       "\n",
       "    .dataframe tbody tr th {\n",
       "        vertical-align: top;\n",
       "    }\n",
       "\n",
       "    .dataframe thead th {\n",
       "        text-align: right;\n",
       "    }\n",
       "</style>\n",
       "<table border=\"1\" class=\"dataframe\">\n",
       "  <thead>\n",
       "    <tr style=\"text-align: right;\">\n",
       "      <th></th>\n",
       "      <th>user_id</th>\n",
       "      <th>os</th>\n",
       "      <th>group</th>\n",
       "      <th>start</th>\n",
       "      <th>end</th>\n",
       "    </tr>\n",
       "  </thead>\n",
       "  <tbody>\n",
       "    <tr>\n",
       "      <th>0</th>\n",
       "      <td>454225</td>\n",
       "      <td>Android</td>\n",
       "      <td>treatment</td>\n",
       "      <td>2021-12-01 05:15:06</td>\n",
       "      <td>2021-12-01 05:28:53</td>\n",
       "    </tr>\n",
       "    <tr>\n",
       "      <th>1</th>\n",
       "      <td>165642</td>\n",
       "      <td>Android</td>\n",
       "      <td>control</td>\n",
       "      <td>2021-12-01 07:35:13</td>\n",
       "      <td>2021-12-01 07:38:31</td>\n",
       "    </tr>\n",
       "    <tr>\n",
       "      <th>2</th>\n",
       "      <td>793700</td>\n",
       "      <td>iOS</td>\n",
       "      <td>control</td>\n",
       "      <td>2021-12-01 15:09:51</td>\n",
       "      <td>2021-12-01 15:20:02</td>\n",
       "    </tr>\n",
       "    <tr>\n",
       "      <th>3</th>\n",
       "      <td>597537</td>\n",
       "      <td>Android</td>\n",
       "      <td>control</td>\n",
       "      <td>2021-12-01 21:17:11</td>\n",
       "      <td>2021-12-01 21:25:47</td>\n",
       "    </tr>\n",
       "    <tr>\n",
       "      <th>4</th>\n",
       "      <td>685038</td>\n",
       "      <td>Android</td>\n",
       "      <td>treatment</td>\n",
       "      <td>2021-12-01 22:23:08</td>\n",
       "      <td>2021-12-01 22:35:39</td>\n",
       "    </tr>\n",
       "  </tbody>\n",
       "</table>\n",
       "</div>"
      ],
      "text/plain": [
       "   user_id       os      group                start                  end\n",
       "0   454225  Android  treatment  2021-12-01 05:15:06  2021-12-01 05:28:53\n",
       "1   165642  Android    control  2021-12-01 07:35:13  2021-12-01 07:38:31\n",
       "2   793700      iOS    control  2021-12-01 15:09:51  2021-12-01 15:20:02\n",
       "3   597537  Android    control  2021-12-01 21:17:11  2021-12-01 21:25:47\n",
       "4   685038  Android  treatment  2021-12-01 22:23:08  2021-12-01 22:35:39"
      ]
     },
     "execution_count": 10,
     "metadata": {},
     "output_type": "execute_result"
    }
   ],
   "source": [
    "# загрузка данных\n",
    "\n",
    "test_data = pd.read_csv('test_data_5.csv')\n",
    "test_data.head()"
   ]
  },
  {
   "cell_type": "code",
   "execution_count": 11,
   "metadata": {},
   "outputs": [
    {
     "name": "stdout",
     "output_type": "stream",
     "text": [
      "Количество уникальных пользователей: 202\n",
      "Количество пользователей в контрольной группе: 101\n",
      "Количество пользователей в экспериментальной группе: 101\n",
      "<class 'pandas.core.frame.DataFrame'>\n",
      "RangeIndex: 202 entries, 0 to 201\n",
      "Data columns (total 5 columns):\n",
      " #   Column   Non-Null Count  Dtype \n",
      "---  ------   --------------  ----- \n",
      " 0   user_id  202 non-null    int64 \n",
      " 1   os       202 non-null    object\n",
      " 2   group    202 non-null    object\n",
      " 3   start    202 non-null    object\n",
      " 4   end      202 non-null    object\n",
      "dtypes: int64(1), object(4)\n",
      "memory usage: 4.8+ KB\n"
     ]
    }
   ],
   "source": [
    "# проверка корректности\n",
    "\n",
    "print(f\"Количество уникальных пользователей: {len(test_data.user_id.unique())}\") \n",
    "print(f\"Количество пользователей в контрольной группе: {len(test_data[test_data.group == 'control'])}\")\n",
    "print(f\"Количество пользователей в экспериментальной группе: {len(test_data[test_data.group == 'treatment'])}\")\n",
    "test_data.info()"
   ]
  },
  {
   "cell_type": "markdown",
   "metadata": {},
   "source": [
    "Рассчитаем продолжительность сессии каждого пользователя, а также описательные статистики."
   ]
  },
  {
   "cell_type": "code",
   "execution_count": 12,
   "metadata": {},
   "outputs": [
    {
     "data": {
      "text/plain": [
       "count     202.000000\n",
       "mean      662.500000\n",
       "std       212.403358\n",
       "min       -62.000000\n",
       "25%       524.500000\n",
       "50%       665.500000\n",
       "75%       786.750000\n",
       "max      1519.000000\n",
       "Name: time_delta, dtype: float64"
      ]
     },
     "execution_count": 12,
     "metadata": {},
     "output_type": "execute_result"
    }
   ],
   "source": [
    "test_data['start'] = pd.to_datetime(test_data['start'], format='%Y/%m/%d')\n",
    "test_data['end'] = pd.to_datetime(test_data['end'], format='%Y/%m/%d')\n",
    "test_data['time_delta'] = test_data['end'] - test_data['start']\n",
    "test_data['time_delta'] = test_data['time_delta'].dt.total_seconds()\n",
    "test_data.describe()['time_delta']"
   ]
  },
  {
   "cell_type": "code",
   "execution_count": 13,
   "metadata": {},
   "outputs": [
    {
     "data": {
      "image/png": "[encoded data removed]",
      "text/plain": [
       "<Figure size 432x288 with 1 Axes>"
      ]
     },
     "metadata": {
      "needs_background": "light"
     },
     "output_type": "display_data"
    }
   ],
   "source": [
    "sns.boxplot(x='group', y='time_delta', data=test_data, zorder=10)\n",
    "plt.grid()\n",
    "plt.show()"
   ]
  },
  {
   "cell_type": "markdown",
   "metadata": {},
   "source": [
    "На боксплотах мы видим, что распределение в выборках похоже на нормальное, значение медианы в экспериментальной группе больше, чем в контрольной."
   ]
  },
  {
   "cell_type": "markdown",
   "metadata": {},
   "source": [
    "#### Проверка гипотезы"
   ]
  },
  {
   "cell_type": "markdown",
   "metadata": {},
   "source": [
    "Проверим распределение в выборках на нормальность с помощью критерия Шапиро-Уилка."
   ]
  },
  {
   "cell_type": "code",
   "execution_count": 14,
   "metadata": {},
   "outputs": [
    {
     "name": "stdout",
     "output_type": "stream",
     "text": [
      "control group: ShapiroResult(statistic=0.9873978495597839, pvalue=0.45758217573165894)\n",
      "treatment group: ShapiroResult(statistic=0.9890086650848389, pvalue=0.5780946016311646)\n"
     ]
    }
   ],
   "source": [
    "control = test_data[test_data.group == 'control']['time_delta']\n",
    "treatment = test_data[test_data.group == 'treatment']['time_delta']\n",
    "\n",
    "print('control group:', shapiro(control))\n",
    "print('treatment group:', shapiro(treatment))"
   ]
  },
  {
   "cell_type": "markdown",
   "metadata": {},
   "source": [
    "Проверим дисперсии в двух выборках на гомогенность с помощью критерия Бартлетта."
   ]
  },
  {
   "cell_type": "code",
   "execution_count": 15,
   "metadata": {},
   "outputs": [
    {
     "name": "stdout",
     "output_type": "stream",
     "text": [
      "BartlettResult(statistic=25.12263145576732, pvalue=5.379776504648714e-07)\n"
     ]
    }
   ],
   "source": [
    "print(bartlett(control, treatment))"
   ]
  },
  {
   "cell_type": "markdown",
   "metadata": {},
   "source": [
    "Полученный результат свидетельствует о том, дисперсии не являются однородными. Для проверки основной гипотезы воспользуемся критерием Стьюдента для независимых выборок (в модификации Уэлча)."
   ]
  },
  {
   "cell_type": "code",
   "execution_count": 16,
   "metadata": {},
   "outputs": [
    {
     "data": {
      "text/plain": [
       "Ttest_indResult(statistic=-2.9490719821566582, pvalue=0.0036547220962035725)"
      ]
     },
     "execution_count": 16,
     "metadata": {},
     "output_type": "execute_result"
    }
   ],
   "source": [
    "ttest_ind(control, treatment, equal_var=False)"
   ]
  },
  {
   "cell_type": "markdown",
   "metadata": {},
   "source": [
    "Различие групп статистически значимо."
   ]
  },
  {
   "cell_type": "markdown",
   "metadata": {},
   "source": [
    "Проведем дополнительную проверку при помощи бутстрапа."
   ]
  },
  {
   "cell_type": "code",
   "execution_count": 17,
   "metadata": {},
   "outputs": [
    {
     "data": {
      "application/vnd.jupyter.widget-view+json": {
       "model_id": "77367f8bdb4b40e2b58c3825ef155daf",
       "version_major": 2,
       "version_minor": 0
      },
      "text/plain": [
       "HBox(children=(FloatProgress(value=0.0, max=10000.0), HTML(value='')))"
      ]
     },
     "metadata": {},
     "output_type": "display_data"
    },
    {
     "name": "stdout",
     "output_type": "stream",
     "text": [
      "\n"
     ]
    },
    {
     "data": {
      "image/png": "[encoded data removed]",
      "text/plain": [
       "<Figure size 432x288 with 1 Axes>"
      ]
     },
     "metadata": {
      "needs_background": "light"
     },
     "output_type": "display_data"
    },
    {
     "name": "stdout",
     "output_type": "stream",
     "text": [
      "ДИ:                 0\n",
      "0.025 -143.574257\n",
      "0.975  -30.454703\n",
      "\n",
      "p_value: 0.0027212643801201152\n"
     ]
    }
   ],
   "source": [
    "boot_len = 101\n",
    "\n",
    "# извлекаем бутстрапированные подвыборки и добавляем в список boot_data среднее разности значений\n",
    "\n",
    "boot_data = []\n",
    "for i in tqdm(range(10000)):\n",
    "    samples_x = control.sample(boot_len, replace=True).values\n",
    "    samples_y = treatment.sample(boot_len, replace = True).values\n",
    "    boot_data.append(np.mean(samples_x - samples_y)) \n",
    "\n",
    "# находим критические значения и p-value для медианы разности наблюдений \n",
    "# в бутстрапированных выборках из групп type_1 и type_2\n",
    "    \n",
    "df_boot_data = pd.DataFrame(boot_data)\n",
    "quants = df_boot_data.quantile([0.025, 0.975])\n",
    "p_1 = norm.cdf(x = 0, \n",
    "                    loc = np.mean(boot_data), \n",
    "                    scale = np.std(boot_data))\n",
    "p_2 = norm.cdf(x = 0, \n",
    "                    loc = -np.mean(boot_data), \n",
    "                    scale = np.std(boot_data))\n",
    "p_value = min(p_1, p_2) * 2\n",
    "\n",
    "# визуализация результатов\n",
    "\n",
    "fig, ax, bars = plt.hist(df_boot_data[0], bins = 50)\n",
    "for bar in bars:\n",
    "    if bar.get_x() <= quants.iloc[0][0] or bar.get_x() >= quants.iloc[1][0]:\n",
    "        bar.set_facecolor('darkgreen')\n",
    "        bar.set_edgecolor('black')\n",
    "    else: \n",
    "        bar.set_facecolor('lightgreen')\n",
    "        bar.set_edgecolor('black')\n",
    "    \n",
    "plt.vlines(quants, ymin = 0, ymax = 650, linestyle = '--')\n",
    "plt.xlabel('Среднее разности бутстрапированных подвыборок')\n",
    "plt.ylabel('Частота')\n",
    "plt.title(\"Гистограмма бутстрапа\")\n",
    "plt.grid()\n",
    "plt.show()\n",
    "       \n",
    "print(\"ДИ:\", quants) \n",
    "print()\n",
    "print(\"p_value:\", p_value)"
   ]
  },
  {
   "cell_type": "markdown",
   "metadata": {},
   "source": [
    "Бутстрап подтверждает гипотезу о наличии значимых различий."
   ]
  },
  {
   "cell_type": "markdown",
   "metadata": {},
   "source": [
    "#### Анализ мощности"
   ]
  },
  {
   "cell_type": "markdown",
   "metadata": {},
   "source": [
    "Рассчитаем размер эффекта:"
   ]
  },
  {
   "cell_type": "code",
   "execution_count": 18,
   "metadata": {},
   "outputs": [
    {
     "data": {
      "text/plain": [
       "0.39763534724360683"
      ]
     },
     "execution_count": 18,
     "metadata": {},
     "output_type": "execute_result"
    }
   ],
   "source": [
    "def cohen_d(x, y):\n",
    "    nx = len(x)\n",
    "    ny = len(y)\n",
    "    return (np.mean(x) - np.mean(y)) / np.sqrt((np.var(x, ddof=1) + np.var(y, ddof=1)) / 2)\n",
    "\n",
    "standartized_effect_size = cohen_d(treatment, control)\n",
    "effect_size"
   ]
  },
  {
   "cell_type": "markdown",
   "metadata": {},
   "source": [
    "Рассчитаем мощность теста и построим график:"
   ]
  },
  {
   "cell_type": "code",
   "execution_count": 19,
   "metadata": {},
   "outputs": [
    {
     "name": "stdout",
     "output_type": "stream",
     "text": [
      "Мощность теста:  0.8352000866938601\n"
     ]
    }
   ],
   "source": [
    "print(\"Мощность теста: \", tt_ind_solve_power(effect_size=standartized_effect_size,\n",
    "                               nobs1=101, \n",
    "                               alpha=0.05,\n",
    "                               ratio=1))"
   ]
  },
  {
   "cell_type": "code",
   "execution_count": 20,
   "metadata": {},
   "outputs": [
    {
     "data": {
      "text/plain": [
       "<Figure size 1008x576 with 0 Axes>"
      ]
     },
     "metadata": {},
     "output_type": "display_data"
    },
    {
     "data": {
      "image/png": "[encoded data removed]",
      "text/plain": [
       "<Figure size 432x288 with 1 Axes>"
      ]
     },
     "metadata": {
      "needs_background": "light"
     },
     "output_type": "display_data"
    }
   ],
   "source": [
    "power_analysis = TTestIndPower()\n",
    "figure = plt.figure(figsize=(14, 8))\n",
    "TTestIndPower.plot_power(power_analysis, \n",
    "                         effect_size=np.arange(0.2, 0.41, 0.1),\n",
    "                         nobs=np.arange(5, 150), \n",
    "                         alpha=0.05)\n",
    "plt.grid()\n",
    "plt.show()"
   ]
  },
  {
   "cell_type": "markdown",
   "metadata": {},
   "source": [
    "#### Вывод"
   ]
  },
  {
   "cell_type": "markdown",
   "metadata": {},
   "source": [
    "По результатам экперимента отклоняем нулевую гипотезу. Дизайн приложения оказывает влияние на продолжительность пользовательской сессии."
   ]
  }
 ],
 "metadata": {
  "kernelspec": {
   "display_name": "Python 3",
   "language": "python",
   "name": "python3"
  },
  "language_info": {
   "codemirror_mode": {
    "name": "ipython",
    "version": 3
   },
   "file_extension": ".py",
   "mimetype": "text/x-python",
   "name": "python",
   "nbconvert_exporter": "python",
   "pygments_lexer": "ipython3",
   "version": "3.8.3"
  }
 },
 "nbformat": 4,
 "nbformat_minor": 4
}
