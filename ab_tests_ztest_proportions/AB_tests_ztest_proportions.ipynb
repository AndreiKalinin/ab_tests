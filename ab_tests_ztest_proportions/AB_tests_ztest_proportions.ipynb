{
 "cells": [
  {
   "cell_type": "markdown",
   "metadata": {},
   "source": [
    "# A/B тестирование: тест пропорций"
   ]
  },
  {
   "cell_type": "markdown",
   "metadata": {},
   "source": [
    "#### Постановка задачи"
   ]
  },
  {
   "cell_type": "markdown",
   "metadata": {},
   "source": [
    "Продуктовая команда предложила новый дизайн кнопки перехода к оплате товара. Необходимо протестировать, влияет ли новый дизайн на увеличение конверсии. Текущее значение конверсии составляет 12%. Ожидаемый эффект от внедрения нового дизайна - увеличение конверсии на 2%."
   ]
  },
  {
   "cell_type": "markdown",
   "metadata": {},
   "source": [
    "#### Формулирование гипотез"
   ]
  },
  {
   "cell_type": "markdown",
   "metadata": {},
   "source": [
    "Нулевая гипотеза: новый дизайн не влияет на конверсию. \n",
    "Альтернативная гипотеза: новый дизайн увеличивает конверсию (односторонняя гипотеза).\n",
    "Уровень значимости = 0.05."
   ]
  },
  {
   "cell_type": "markdown",
   "metadata": {},
   "source": [
    "#### Дизайн эксперимента"
   ]
  },
  {
   "cell_type": "markdown",
   "metadata": {},
   "source": [
    "Необходимо разделить участников эксперимента на две группы:\n",
    "1. Контрольная группа (control) - им будет показан старый дизайн.\n",
    "2. Экспериментальная группа (treatment)  - им будет показан новый дизайн."
   ]
  },
  {
   "cell_type": "markdown",
   "metadata": {},
   "source": [
    "#### Определение размера выборки"
   ]
  },
  {
   "cell_type": "markdown",
   "metadata": {},
   "source": [
    "Согласно сформулированному заданию, размер эффекта составляет 2%, т.е. конверсия должна увеличиться с 12 хотя бы до 14%. Установим мощность теста на уровне 80% и рассчитаем необходимый размер выборки."
   ]
  },
  {
   "cell_type": "code",
   "execution_count": 1,
   "metadata": {},
   "outputs": [
    {
     "name": "stdout",
     "output_type": "stream",
     "text": [
      "Необходимый размер выборки составляет 3492 чел.\n"
     ]
    }
   ],
   "source": [
    "import numpy as np\n",
    "import pandas as pd\n",
    "import statsmodels.stats.api as sms\n",
    "import matplotlib.pyplot as plt\n",
    "import seaborn as sns\n",
    "from math import ceil\n",
    "from statsmodels.stats.proportion import proportions_ztest, proportion_confint\n",
    "from statsmodels.stats.power import zt_ind_solve_power\n",
    "import warnings\n",
    "warnings.filterwarnings('ignore')\n",
    "\n",
    "effect_size = sms.proportion_effectsize(0.12, 0.14) \n",
    "required_n = sms.NormalIndPower().solve_power(effect_size, \n",
    "                                              power=0.8, \n",
    "                                              alpha=0.05, \n",
    "                                              ratio=1,\n",
    "                                              alternative='smaller')                                                                       \n",
    "\n",
    "print(f'Необходимый размер выборки составляет {ceil(required_n)} чел.')"
   ]
  },
  {
   "cell_type": "markdown",
   "metadata": {},
   "source": [
    "Итак, для проведения эксперимента нам необходимо, по крайней мере, 3492 человека в каждой из групп."
   ]
  },
  {
   "cell_type": "markdown",
   "metadata": {},
   "source": [
    "#### Сбор и обработка данных"
   ]
  },
  {
   "cell_type": "code",
   "execution_count": 2,
   "metadata": {},
   "outputs": [
    {
     "data": {
      "text/html": [
       "<div>\n",
       "<style scoped>\n",
       "    .dataframe tbody tr th:only-of-type {\n",
       "        vertical-align: middle;\n",
       "    }\n",
       "\n",
       "    .dataframe tbody tr th {\n",
       "        vertical-align: top;\n",
       "    }\n",
       "\n",
       "    .dataframe thead th {\n",
       "        text-align: right;\n",
       "    }\n",
       "</style>\n",
       "<table border=\"1\" class=\"dataframe\">\n",
       "  <thead>\n",
       "    <tr style=\"text-align: right;\">\n",
       "      <th></th>\n",
       "      <th>user_id</th>\n",
       "      <th>timestamp</th>\n",
       "      <th>group</th>\n",
       "      <th>button_design</th>\n",
       "      <th>converted</th>\n",
       "    </tr>\n",
       "  </thead>\n",
       "  <tbody>\n",
       "    <tr>\n",
       "      <th>0</th>\n",
       "      <td>340198</td>\n",
       "      <td>2021-12-01 00:04:01</td>\n",
       "      <td>control</td>\n",
       "      <td>old</td>\n",
       "      <td>False</td>\n",
       "    </tr>\n",
       "    <tr>\n",
       "      <th>1</th>\n",
       "      <td>816458</td>\n",
       "      <td>2021-12-01 00:09:50</td>\n",
       "      <td>control</td>\n",
       "      <td>old</td>\n",
       "      <td>True</td>\n",
       "    </tr>\n",
       "    <tr>\n",
       "      <th>2</th>\n",
       "      <td>598083</td>\n",
       "      <td>2021-12-01 00:25:28</td>\n",
       "      <td>treatment</td>\n",
       "      <td>new</td>\n",
       "      <td>False</td>\n",
       "    </tr>\n",
       "    <tr>\n",
       "      <th>3</th>\n",
       "      <td>459305</td>\n",
       "      <td>2021-12-01 00:28:32</td>\n",
       "      <td>control</td>\n",
       "      <td>old</td>\n",
       "      <td>False</td>\n",
       "    </tr>\n",
       "    <tr>\n",
       "      <th>4</th>\n",
       "      <td>989656</td>\n",
       "      <td>2021-12-01 00:35:11</td>\n",
       "      <td>treatment</td>\n",
       "      <td>new</td>\n",
       "      <td>False</td>\n",
       "    </tr>\n",
       "  </tbody>\n",
       "</table>\n",
       "</div>"
      ],
      "text/plain": [
       "   user_id            timestamp      group button_design  converted\n",
       "0   340198  2021-12-01 00:04:01    control           old      False\n",
       "1   816458  2021-12-01 00:09:50    control           old       True\n",
       "2   598083  2021-12-01 00:25:28  treatment           new      False\n",
       "3   459305  2021-12-01 00:28:32    control           old      False\n",
       "4   989656  2021-12-01 00:35:11  treatment           new      False"
      ]
     },
     "execution_count": 2,
     "metadata": {},
     "output_type": "execute_result"
    }
   ],
   "source": [
    "# загрузка данных\n",
    "\n",
    "data = pd.read_csv('test_data.csv')\n",
    "data.head()"
   ]
  },
  {
   "cell_type": "code",
   "execution_count": 3,
   "metadata": {},
   "outputs": [
    {
     "name": "stdout",
     "output_type": "stream",
     "text": [
      "<class 'pandas.core.frame.DataFrame'>\n",
      "RangeIndex: 8950 entries, 0 to 8949\n",
      "Data columns (total 5 columns):\n",
      " #   Column         Non-Null Count  Dtype \n",
      "---  ------         --------------  ----- \n",
      " 0   user_id        8950 non-null   int64 \n",
      " 1   timestamp      8950 non-null   object\n",
      " 2   group          8950 non-null   object\n",
      " 3   button_design  8950 non-null   object\n",
      " 4   converted      8950 non-null   bool  \n",
      "dtypes: bool(1), int64(1), object(3)\n",
      "memory usage: 183.6+ KB\n"
     ]
    }
   ],
   "source": [
    "# проверка отсутствующих значений\n",
    "\n",
    "data.info()"
   ]
  },
  {
   "cell_type": "code",
   "execution_count": 4,
   "metadata": {},
   "outputs": [
    {
     "data": {
      "text/plain": [
       "False"
      ]
     },
     "execution_count": 4,
     "metadata": {},
     "output_type": "execute_result"
    }
   ],
   "source": [
    "# проверка, участвовал ли один и тот же человек в эксперименте более одного раза.\n",
    "\n",
    "len(data['user_id'].unique()) == data.shape[0]"
   ]
  },
  {
   "cell_type": "code",
   "execution_count": 5,
   "metadata": {},
   "outputs": [
    {
     "data": {
      "text/plain": [
       "8904"
      ]
     },
     "execution_count": 5,
     "metadata": {},
     "output_type": "execute_result"
    }
   ],
   "source": [
    "len(data['user_id'].unique())"
   ]
  },
  {
   "cell_type": "markdown",
   "metadata": {},
   "source": [
    "В выборке есть пользователи, которые принимали участие в эксперименте более одного раза. Если пользователь принадлежит одной и той же группе, и его действие не поменялось, то удалим повторяющуюся строку. Если пользователь был включен в разные группы, или его действие изменилось, то исключим этого пользователя из выборки."
   ]
  },
  {
   "cell_type": "code",
   "execution_count": 6,
   "metadata": {},
   "outputs": [
    {
     "name": "stdout",
     "output_type": "stream",
     "text": [
      "<class 'pandas.core.frame.DataFrame'>\n",
      "Int64Index: 8875 entries, 0 to 8949\n",
      "Data columns (total 5 columns):\n",
      " #   Column         Non-Null Count  Dtype \n",
      "---  ------         --------------  ----- \n",
      " 0   user_id        8875 non-null   int64 \n",
      " 1   timestamp      8875 non-null   object\n",
      " 2   group          8875 non-null   object\n",
      " 3   button_design  8875 non-null   object\n",
      " 4   converted      8875 non-null   bool  \n",
      "dtypes: bool(1), int64(1), object(3)\n",
      "memory usage: 251.3+ KB\n"
     ]
    }
   ],
   "source": [
    "duplicates = data[data.duplicated('user_id', keep=False)]\n",
    "duplicates.drop_duplicates(subset=['user_id', 'group', 'button_design', 'converted'], inplace=True)\n",
    "data.drop(duplicates.index, inplace=True)\n",
    "data.info()"
   ]
  },
  {
   "cell_type": "code",
   "execution_count": 7,
   "metadata": {},
   "outputs": [
    {
     "data": {
      "text/html": [
       "<div>\n",
       "<style scoped>\n",
       "    .dataframe tbody tr th:only-of-type {\n",
       "        vertical-align: middle;\n",
       "    }\n",
       "\n",
       "    .dataframe tbody tr th {\n",
       "        vertical-align: top;\n",
       "    }\n",
       "\n",
       "    .dataframe thead th {\n",
       "        text-align: right;\n",
       "    }\n",
       "</style>\n",
       "<table border=\"1\" class=\"dataframe\">\n",
       "  <thead>\n",
       "    <tr style=\"text-align: right;\">\n",
       "      <th></th>\n",
       "      <th>group</th>\n",
       "      <th>total</th>\n",
       "      <th>converted</th>\n",
       "      <th>conversion, %</th>\n",
       "    </tr>\n",
       "  </thead>\n",
       "  <tbody>\n",
       "    <tr>\n",
       "      <th>0</th>\n",
       "      <td>control</td>\n",
       "      <td>4441</td>\n",
       "      <td>514</td>\n",
       "      <td>11.57</td>\n",
       "    </tr>\n",
       "    <tr>\n",
       "      <th>1</th>\n",
       "      <td>treatment</td>\n",
       "      <td>4434</td>\n",
       "      <td>551</td>\n",
       "      <td>12.43</td>\n",
       "    </tr>\n",
       "  </tbody>\n",
       "</table>\n",
       "</div>"
      ],
      "text/plain": [
       "       group  total  converted  conversion, %\n",
       "0    control   4441        514          11.57\n",
       "1  treatment   4434        551          12.43"
      ]
     },
     "execution_count": 7,
     "metadata": {},
     "output_type": "execute_result"
    }
   ],
   "source": [
    "# рассчитаем конверсию в группах\n",
    "\n",
    "test_results = data.groupby('group', as_index=False).agg({'user_id': 'count',\n",
    "                                                  'converted': 'sum'}) \\\n",
    "                                                        .rename(columns={'user_id': 'total'})\n",
    "test_results['conversion, %'] = round(test_results['converted'] / test_results['total'] * 100, 2)\n",
    "test_results['converted'] = test_results['converted'].astype(int)\n",
    "test_results"
   ]
  },
  {
   "cell_type": "code",
   "execution_count": 8,
   "metadata": {},
   "outputs": [
    {
     "data": {
      "image/png": "[encoded data removed]",
      "text/plain": [
       "<Figure size 432x288 with 1 Axes>"
      ]
     },
     "metadata": {},
     "output_type": "display_data"
    }
   ],
   "source": [
    "plt.style.use('ggplot')\n",
    "sns.barplot(x=test_results['group'], y=test_results['conversion, %'])\n",
    "plt.show()"
   ]
  },
  {
   "cell_type": "markdown",
   "metadata": {},
   "source": [
    "В каждой из групп количество наблюдений превышает минимально допустимый объем выборки, можно перейти к проверке гипотезы."
   ]
  },
  {
   "cell_type": "markdown",
   "metadata": {},
   "source": [
    "#### Проверка гипотезы"
   ]
  },
  {
   "cell_type": "markdown",
   "metadata": {},
   "source": [
    "Для проверки гипотезы воспользуемся тестом пропорций."
   ]
  },
  {
   "cell_type": "code",
   "execution_count": 9,
   "metadata": {},
   "outputs": [
    {
     "name": "stdout",
     "output_type": "stream",
     "text": [
      "z statistic: -1.24\n",
      "p-value: 0.108\n",
      "ДИ 95% для контрольной группы: [0.106, 0.125]\n",
      "ДИ 95% для экспериментальной группы: [0.115, 0.134]\n"
     ]
    }
   ],
   "source": [
    "successes = [test_results.iloc[0, 2], test_results.iloc[1, 2]]\n",
    "n_obs = [test_results.iloc[0, 1], test_results.iloc[1, 1]]\n",
    "\n",
    "z_stat, pval = proportions_ztest(successes, n_obs, alternative='smaller')\n",
    "(lower_con, lower_treat), (upper_con, upper_treat) = proportion_confint(successes, n_obs, alpha=0.05)\n",
    "\n",
    "print(f'z statistic: {z_stat:.2f}')\n",
    "print(f'p-value: {pval:.3f}')\n",
    "print(f'ДИ 95% для контрольной группы: [{lower_con:.3f}, {upper_con:.3f}]')\n",
    "print(f'ДИ 95% для экспериментальной группы: [{lower_treat:.3f}, {upper_treat:.3f}]')"
   ]
  },
  {
   "cell_type": "markdown",
   "metadata": {},
   "source": [
    "#### Вывод"
   ]
  },
  {
   "cell_type": "markdown",
   "metadata": {},
   "source": [
    "Найденное значение p-value превышает уровень значимости 0.05, следовательно новый дизайн не приводит к статистически значимому увеличению конверсии."
   ]
  }
 ],
 "metadata": {
  "kernelspec": {
   "display_name": "Python 3",
   "language": "python",
   "name": "python3"
  },
  "language_info": {
   "codemirror_mode": {
    "name": "ipython",
    "version": 3
   },
   "file_extension": ".py",
   "mimetype": "text/x-python",
   "name": "python",
   "nbconvert_exporter": "python",
   "pygments_lexer": "ipython3",
   "version": "3.8.3"
  }
 },
 "nbformat": 4,
 "nbformat_minor": 4
}
