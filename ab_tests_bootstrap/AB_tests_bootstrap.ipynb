{
 "cells": [
  {
   "cell_type": "markdown",
   "metadata": {},
   "source": [
    "# A/B тестирование: бутстрап"
   ]
  },
  {
   "cell_type": "markdown",
   "metadata": {},
   "source": [
    "#### Постановка задачи"
   ]
  },
  {
   "cell_type": "markdown",
   "metadata": {},
   "source": [
    "Есть два варианта размещения баннера, сообщающего о начале распродаж, на главной странице интернет-магазина. Необходимо проверить, влияет ли размещение баннера на размер покупки."
   ]
  },
  {
   "cell_type": "markdown",
   "metadata": {},
   "source": [
    "#### Формулирование гипотез"
   ]
  },
  {
   "cell_type": "markdown",
   "metadata": {},
   "source": [
    "Нулевая гипотеза: положение баннера не влияет на размер покупки. \n",
    "Альтернативная гипотеза: положение баннера влияет на размер покупки (двусторонняя гипотеза). \n",
    "Уровень значимости = 0.05."
   ]
  },
  {
   "cell_type": "markdown",
   "metadata": {},
   "source": [
    "#### Дизайн эксперимента"
   ]
  },
  {
   "cell_type": "markdown",
   "metadata": {},
   "source": [
    "Участников эксперимента необходимо разделить на две группы. Каждой группе будет показан разный вариант размещения баннера. Обозначим варианты как type_1 и type_2."
   ]
  },
  {
   "cell_type": "markdown",
   "metadata": {},
   "source": [
    "#### Выборка"
   ]
  },
  {
   "cell_type": "markdown",
   "metadata": {},
   "source": [
    "Так как данный эксперимент ограничен по времени, удалось собрать 350 наблюдений."
   ]
  },
  {
   "cell_type": "code",
   "execution_count": 1,
   "metadata": {},
   "outputs": [
    {
     "data": {
      "text/html": [
       "<div>\n",
       "<style scoped>\n",
       "    .dataframe tbody tr th:only-of-type {\n",
       "        vertical-align: middle;\n",
       "    }\n",
       "\n",
       "    .dataframe tbody tr th {\n",
       "        vertical-align: top;\n",
       "    }\n",
       "\n",
       "    .dataframe thead th {\n",
       "        text-align: right;\n",
       "    }\n",
       "</style>\n",
       "<table border=\"1\" class=\"dataframe\">\n",
       "  <thead>\n",
       "    <tr style=\"text-align: right;\">\n",
       "      <th></th>\n",
       "      <th>user_id</th>\n",
       "      <th>timestamp</th>\n",
       "      <th>group</th>\n",
       "      <th>buy_sum</th>\n",
       "    </tr>\n",
       "  </thead>\n",
       "  <tbody>\n",
       "    <tr>\n",
       "      <th>0</th>\n",
       "      <td>681363</td>\n",
       "      <td>2021-12-20 00:27:53</td>\n",
       "      <td>type_1</td>\n",
       "      <td>2638</td>\n",
       "    </tr>\n",
       "    <tr>\n",
       "      <th>1</th>\n",
       "      <td>684228</td>\n",
       "      <td>2021-12-20 00:34:36</td>\n",
       "      <td>type_2</td>\n",
       "      <td>1488</td>\n",
       "    </tr>\n",
       "    <tr>\n",
       "      <th>2</th>\n",
       "      <td>521050</td>\n",
       "      <td>2021-12-20 00:44:17</td>\n",
       "      <td>type_1</td>\n",
       "      <td>2737</td>\n",
       "    </tr>\n",
       "    <tr>\n",
       "      <th>3</th>\n",
       "      <td>597384</td>\n",
       "      <td>2021-12-20 00:50:29</td>\n",
       "      <td>type_2</td>\n",
       "      <td>2722</td>\n",
       "    </tr>\n",
       "    <tr>\n",
       "      <th>4</th>\n",
       "      <td>717110</td>\n",
       "      <td>2021-12-20 00:53:05</td>\n",
       "      <td>type_1</td>\n",
       "      <td>904</td>\n",
       "    </tr>\n",
       "  </tbody>\n",
       "</table>\n",
       "</div>"
      ],
      "text/plain": [
       "   user_id            timestamp   group  buy_sum\n",
       "0   681363  2021-12-20 00:27:53  type_1     2638\n",
       "1   684228  2021-12-20 00:34:36  type_2     1488\n",
       "2   521050  2021-12-20 00:44:17  type_1     2737\n",
       "3   597384  2021-12-20 00:50:29  type_2     2722\n",
       "4   717110  2021-12-20 00:53:05  type_1      904"
      ]
     },
     "execution_count": 1,
     "metadata": {},
     "output_type": "execute_result"
    }
   ],
   "source": [
    "import numpy as np\n",
    "import pandas as pd\n",
    "import matplotlib.pyplot as plt\n",
    "import seaborn as sns\n",
    "from scipy import stats\n",
    "\n",
    "data = pd.read_csv('test_data_2.csv')\n",
    "data.head()"
   ]
  },
  {
   "cell_type": "code",
   "execution_count": 2,
   "metadata": {},
   "outputs": [
    {
     "data": {
      "text/plain": [
       "type_1    181\n",
       "type_2    169\n",
       "Name: group, dtype: int64"
      ]
     },
     "execution_count": 2,
     "metadata": {},
     "output_type": "execute_result"
    }
   ],
   "source": [
    "data['group'].value_counts()"
   ]
  },
  {
   "cell_type": "markdown",
   "metadata": {},
   "source": [
    "Наблюдения распределены следующим образом: 181 показ баннера type_1, 169 показов баннера type_2."
   ]
  },
  {
   "cell_type": "markdown",
   "metadata": {},
   "source": [
    "#### Обработка данных"
   ]
  },
  {
   "cell_type": "code",
   "execution_count": 3,
   "metadata": {},
   "outputs": [
    {
     "name": "stdout",
     "output_type": "stream",
     "text": [
      "<class 'pandas.core.frame.DataFrame'>\n",
      "RangeIndex: 350 entries, 0 to 349\n",
      "Data columns (total 4 columns):\n",
      " #   Column     Non-Null Count  Dtype \n",
      "---  ------     --------------  ----- \n",
      " 0   user_id    350 non-null    int64 \n",
      " 1   timestamp  350 non-null    object\n",
      " 2   group      350 non-null    object\n",
      " 3   buy_sum    350 non-null    int64 \n",
      "dtypes: int64(2), object(2)\n",
      "memory usage: 8.3+ KB\n"
     ]
    }
   ],
   "source": [
    "# проверка наличия пропусков\n",
    "\n",
    "data.info()"
   ]
  },
  {
   "cell_type": "markdown",
   "metadata": {},
   "source": [
    "Пропущенных значений в датафрейме нет."
   ]
  },
  {
   "cell_type": "code",
   "execution_count": 4,
   "metadata": {},
   "outputs": [
    {
     "data": {
      "text/plain": [
       "False"
      ]
     },
     "execution_count": 4,
     "metadata": {},
     "output_type": "execute_result"
    }
   ],
   "source": [
    "# проверка повторяющихся пользователей\n",
    "\n",
    "len(data['user_id'].unique()) == data.shape[0]"
   ]
  },
  {
   "cell_type": "code",
   "execution_count": 5,
   "metadata": {},
   "outputs": [
    {
     "data": {
      "text/plain": [
       "349"
      ]
     },
     "execution_count": 5,
     "metadata": {},
     "output_type": "execute_result"
    }
   ],
   "source": [
    "len(data['user_id'].unique())"
   ]
  },
  {
   "cell_type": "code",
   "execution_count": 6,
   "metadata": {},
   "outputs": [
    {
     "data": {
      "text/html": [
       "<div>\n",
       "<style scoped>\n",
       "    .dataframe tbody tr th:only-of-type {\n",
       "        vertical-align: middle;\n",
       "    }\n",
       "\n",
       "    .dataframe tbody tr th {\n",
       "        vertical-align: top;\n",
       "    }\n",
       "\n",
       "    .dataframe thead th {\n",
       "        text-align: right;\n",
       "    }\n",
       "</style>\n",
       "<table border=\"1\" class=\"dataframe\">\n",
       "  <thead>\n",
       "    <tr style=\"text-align: right;\">\n",
       "      <th></th>\n",
       "      <th>user_id</th>\n",
       "      <th>timestamp</th>\n",
       "      <th>group</th>\n",
       "      <th>buy_sum</th>\n",
       "    </tr>\n",
       "  </thead>\n",
       "  <tbody>\n",
       "    <tr>\n",
       "      <th>264</th>\n",
       "      <td>250200</td>\n",
       "      <td>2021-12-22 07:52:27</td>\n",
       "      <td>type_1</td>\n",
       "      <td>698</td>\n",
       "    </tr>\n",
       "    <tr>\n",
       "      <th>270</th>\n",
       "      <td>250200</td>\n",
       "      <td>2021-12-22 09:58:28</td>\n",
       "      <td>type_1</td>\n",
       "      <td>1045</td>\n",
       "    </tr>\n",
       "  </tbody>\n",
       "</table>\n",
       "</div>"
      ],
      "text/plain": [
       "     user_id            timestamp   group  buy_sum\n",
       "264   250200  2021-12-22 07:52:27  type_1      698\n",
       "270   250200  2021-12-22 09:58:28  type_1     1045"
      ]
     },
     "execution_count": 6,
     "metadata": {},
     "output_type": "execute_result"
    }
   ],
   "source": [
    "data[data.duplicated('user_id', keep=False)]"
   ]
  },
  {
   "cell_type": "markdown",
   "metadata": {},
   "source": [
    "Как видим, один из пользователей, участвовавших в эксперименте, совершил в разное время две покупки. Так как данному покупателю оба раза был продемонстрирован баннера type_1, то можно просто суммировать обе его покупки."
   ]
  },
  {
   "cell_type": "code",
   "execution_count": 7,
   "metadata": {},
   "outputs": [
    {
     "data": {
      "text/plain": [
       "type_1    180\n",
       "type_2    169\n",
       "Name: group, dtype: int64"
      ]
     },
     "execution_count": 7,
     "metadata": {},
     "output_type": "execute_result"
    }
   ],
   "source": [
    "results = data.groupby(['user_id', 'group'], as_index=False).sum()\n",
    "results['group'].value_counts()"
   ]
  },
  {
   "cell_type": "code",
   "execution_count": 8,
   "metadata": {},
   "outputs": [
    {
     "data": {
      "image/png": "[encoded data removed]",
      "text/plain": [
       "<Figure size 432x288 with 1 Axes>"
      ]
     },
     "metadata": {},
     "output_type": "display_data"
    }
   ],
   "source": [
    "plt.style.use('ggplot')\n",
    "sns.countplot(x='group', data=results)\n",
    "plt.show()"
   ]
  },
  {
   "cell_type": "markdown",
   "metadata": {},
   "source": [
    "Таким образом, в итоговый датафрейм вошли 180 наблюдений группы type_1 и 169 наблюдений группы type_2."
   ]
  },
  {
   "cell_type": "markdown",
   "metadata": {},
   "source": [
    "#### Проверка гипотезы"
   ]
  },
  {
   "cell_type": "markdown",
   "metadata": {},
   "source": [
    "Для начала посмотрим на распределение сумм покупок в каждой группе."
   ]
  },
  {
   "cell_type": "code",
   "execution_count": 9,
   "metadata": {},
   "outputs": [
    {
     "data": {
      "image/png": "[encoded data removed]",
      "text/plain": [
       "<Figure size 1440x864 with 2 Axes>"
      ]
     },
     "metadata": {},
     "output_type": "display_data"
    }
   ],
   "source": [
    "fig, axes = plt.subplots(2, 1, figsize=(20, 12))\n",
    "sns.distplot(results[results.group == 'type_1']['buy_sum'], ax=axes[0])\n",
    "sns.distplot(results[results.group == 'type_2']['buy_sum'], ax=axes[1])\n",
    "axes[0].set_title('type_1')\n",
    "axes[1].set_title('type_2')\n",
    "plt.show()"
   ]
  },
  {
   "cell_type": "markdown",
   "metadata": {},
   "source": [
    "Распределение асимметрично, большая часть покупок - заказы на небольшую сумму."
   ]
  },
  {
   "cell_type": "markdown",
   "metadata": {},
   "source": [
    "Посмотрим на описательные статистики в разрезе групп."
   ]
  },
  {
   "cell_type": "code",
   "execution_count": 10,
   "metadata": {},
   "outputs": [
    {
     "data": {
      "text/html": [
       "<div>\n",
       "<style scoped>\n",
       "    .dataframe tbody tr th:only-of-type {\n",
       "        vertical-align: middle;\n",
       "    }\n",
       "\n",
       "    .dataframe tbody tr th {\n",
       "        vertical-align: top;\n",
       "    }\n",
       "\n",
       "    .dataframe thead th {\n",
       "        text-align: right;\n",
       "    }\n",
       "</style>\n",
       "<table border=\"1\" class=\"dataframe\">\n",
       "  <thead>\n",
       "    <tr style=\"text-align: right;\">\n",
       "      <th></th>\n",
       "      <th>count</th>\n",
       "      <th>mean</th>\n",
       "      <th>std</th>\n",
       "      <th>min</th>\n",
       "      <th>25%</th>\n",
       "      <th>50%</th>\n",
       "      <th>75%</th>\n",
       "      <th>max</th>\n",
       "    </tr>\n",
       "    <tr>\n",
       "      <th>group</th>\n",
       "      <th></th>\n",
       "      <th></th>\n",
       "      <th></th>\n",
       "      <th></th>\n",
       "      <th></th>\n",
       "      <th></th>\n",
       "      <th></th>\n",
       "      <th></th>\n",
       "    </tr>\n",
       "  </thead>\n",
       "  <tbody>\n",
       "    <tr>\n",
       "      <th>type_1</th>\n",
       "      <td>180.0</td>\n",
       "      <td>3625.355556</td>\n",
       "      <td>7796.049494</td>\n",
       "      <td>505.0</td>\n",
       "      <td>1027.75</td>\n",
       "      <td>1451.5</td>\n",
       "      <td>2557.5</td>\n",
       "      <td>49811.0</td>\n",
       "    </tr>\n",
       "    <tr>\n",
       "      <th>type_2</th>\n",
       "      <td>169.0</td>\n",
       "      <td>2803.177515</td>\n",
       "      <td>5147.584262</td>\n",
       "      <td>505.0</td>\n",
       "      <td>908.00</td>\n",
       "      <td>1323.0</td>\n",
       "      <td>2382.0</td>\n",
       "      <td>36139.0</td>\n",
       "    </tr>\n",
       "  </tbody>\n",
       "</table>\n",
       "</div>"
      ],
      "text/plain": [
       "        count         mean          std    min      25%     50%     75%  \\\n",
       "group                                                                     \n",
       "type_1  180.0  3625.355556  7796.049494  505.0  1027.75  1451.5  2557.5   \n",
       "type_2  169.0  2803.177515  5147.584262  505.0   908.00  1323.0  2382.0   \n",
       "\n",
       "            max  \n",
       "group            \n",
       "type_1  49811.0  \n",
       "type_2  36139.0  "
      ]
     },
     "execution_count": 10,
     "metadata": {},
     "output_type": "execute_result"
    }
   ],
   "source": [
    "results.groupby('group').describe()['buy_sum']"
   ]
  },
  {
   "cell_type": "markdown",
   "metadata": {},
   "source": [
    "Как видим, среднее значение и медиана больше в группе type_1. Проверим, являются ли отличия статистически значимыми. Так как мы располагаем небольшим количеством наблюдений, и распределение отличается от нормального, для проверки гипотезы вопользуемся бутстрапом. \n",
    "Будем сравнивать медианы бутстрапированных выборок. \n",
    "Прежде всего, убедимся, что метод работает, и внутри каждой из выборок существенных различий нет (AA тест)."
   ]
  },
  {
   "cell_type": "code",
   "execution_count": 11,
   "metadata": {},
   "outputs": [
    {
     "name": "stdout",
     "output_type": "stream",
     "text": [
      "type_1_1:  BootstrapResult(confidence_interval=ConfidenceInterval(low=1313.5, high=1625.0), standard_error=96.61769880053997)\n",
      "type_1_2:  BootstrapResult(confidence_interval=ConfidenceInterval(low=909.0, high=1694.5), standard_error=215.89990706509303)\n"
     ]
    }
   ],
   "source": [
    "# разделим выборки на две группы\n",
    "\n",
    "group_type_1_shuffled = results[results.group == 'type_1'].sample(frac=1)\n",
    "group_type_2_shuffled = results[results.group == 'type_2'].sample(frac=1)\n",
    "type_1_1 = group_type_1_shuffled.iloc[:group_type_1_shuffled.shape[0] // 2, :]\n",
    "type_1_2 = group_type_1_shuffled.iloc[group_type_1_shuffled.shape[0] // 2:, :]\n",
    "type_2_1 = group_type_1_shuffled.iloc[:group_type_2_shuffled.shape[0] // 2, :]\n",
    "type_2_2 = group_type_1_shuffled.iloc[group_type_2_shuffled.shape[0] // 2:, :]\n",
    "\n",
    "# применим бутстрап \n",
    "\n",
    "print('type_1_1: ', stats.bootstrap(data=(type_1_1['buy_sum'],), \n",
    "                              statistic=np.median, \n",
    "                              confidence_level=0.95,\n",
    "                              method='basic'))\n",
    "print('type_1_2: ', stats.bootstrap(data=(type_1_2['buy_sum'],), \n",
    "                              statistic=np.median, \n",
    "                              confidence_level=0.95,\n",
    "                              method='basic'))"
   ]
  },
  {
   "cell_type": "markdown",
   "metadata": {},
   "source": [
    "В группе type_1 доверительные интервалы для медиан в подвыборках пересекаются, следовательно, бутстрап верно указал, что значимых различий нет. Проведем аналогичную проверку для группы type_2. "
   ]
  },
  {
   "cell_type": "code",
   "execution_count": 12,
   "metadata": {},
   "outputs": [
    {
     "name": "stdout",
     "output_type": "stream",
     "text": [
      "type_2_1:  BootstrapResult(confidence_interval=ConfidenceInterval(low=1185.5, high=1546.5), standard_error=111.23340687708989)\n",
      "type_2_2:  BootstrapResult(confidence_interval=ConfidenceInterval(low=1015.0, high=1777.0), standard_error=186.7031020721162)\n"
     ]
    }
   ],
   "source": [
    "print('type_2_1: ', stats.bootstrap(data=(type_2_1['buy_sum'],), \n",
    "                              statistic=np.median, \n",
    "                              confidence_level=0.95,\n",
    "                              method='basic'))\n",
    "print('type_2_2: ', stats.bootstrap(data=(type_2_2['buy_sum'],), \n",
    "                              statistic=np.median, \n",
    "                              confidence_level=0.95,\n",
    "                              method='basic'))"
   ]
  },
  {
   "cell_type": "markdown",
   "metadata": {},
   "source": [
    "В группе type_2 значимых различий между двумя подвыборками нет.\n",
    "Теперь можем сравнить медианы обеих групп. "
   ]
  },
  {
   "cell_type": "code",
   "execution_count": 13,
   "metadata": {},
   "outputs": [
    {
     "name": "stdout",
     "output_type": "stream",
     "text": [
      "type_1:  BootstrapResult(confidence_interval=ConfidenceInterval(low=1299.5, high=1637.0), standard_error=80.10423545286152)\n",
      "type_2:  BootstrapResult(confidence_interval=ConfidenceInterval(low=1153.0, high=1425.0), standard_error=72.9286906184577)\n"
     ]
    }
   ],
   "source": [
    "print('type_1: ', stats.bootstrap(data=(group_type_1_shuffled['buy_sum'],), \n",
    "                              statistic=np.median, \n",
    "                              confidence_level=0.95,\n",
    "                              method='basic'))\n",
    "print('type_2: ', stats.bootstrap(data=(group_type_2_shuffled['buy_sum'],), \n",
    "                              statistic=np.median, \n",
    "                              confidence_level=0.95,\n",
    "                              method='basic'))"
   ]
  },
  {
   "cell_type": "markdown",
   "metadata": {},
   "source": [
    "Сравнение доверительных интервалов для двух групп свидетельствует об отсутствии значимых различий в медианном размере покупки. \n",
    "Кроме сравнения доверительных интервалов для каждой группы можно построить один доверительный интервал для медианы разности наблюдений в бутстрапированных выборках из групп type_1 и type_2:"
   ]
  },
  {
   "cell_type": "code",
   "execution_count": 14,
   "metadata": {},
   "outputs": [
    {
     "data": {
      "image/png": "[encoded data removed]",
      "text/plain": [
       "<Figure size 432x288 with 1 Axes>"
      ]
     },
     "metadata": {},
     "output_type": "display_data"
    },
    {
     "name": "stdout",
     "output_type": "stream",
     "text": [
      "ДИ:              0\n",
      "0.025 -408.525\n",
      "0.975  230.500\n",
      "\n",
      "p_value: 0.6221903076593153\n"
     ]
    }
   ],
   "source": [
    "# количество наблюдений в группах разное, поэтому будем извлекать подвыборки размером, равным \n",
    "# количеству наблюдений в большей из групп\n",
    "\n",
    "boot_len = max([len(type_1_1), len(type_1_2)])\n",
    "\n",
    "# извлекаем бутстрапированные подвыборки и добавляем в список boot_data медиану разности значений\n",
    "\n",
    "boot_data = []\n",
    "for i in range(9999):\n",
    "    samples_x = type_1_1['buy_sum'].sample(boot_len, replace=True).values\n",
    "    samples_y = type_1_2['buy_sum'].sample(boot_len, replace = True).values\n",
    "    boot_data.append(np.median(samples_x - samples_y)) \n",
    "\n",
    "# находим критические значения и p-value для медианы разности наблюдений \n",
    "# в бутстрапированных выборках из групп type_1 и type_2\n",
    "    \n",
    "df_boot_data = pd.DataFrame(boot_data)\n",
    "quants = df_boot_data.quantile([0.025, 0.975])\n",
    "p_1 = stats.norm.cdf(x = 0, \n",
    "                    loc = np.mean(boot_data), \n",
    "                    scale = np.std(boot_data))\n",
    "p_2 = stats.norm.cdf(x = 0, \n",
    "                    loc = -np.mean(boot_data), \n",
    "                    scale = np.std(boot_data))\n",
    "p_value = min(p_1, p_2) * 2\n",
    "\n",
    "# визуализация результатов\n",
    "\n",
    "fig, ax, bars = plt.hist(df_boot_data[0], bins = 50)\n",
    "for bar in bars:\n",
    "    if bar.get_x() <= quants.iloc[0][0] or bar.get_x() >= quants.iloc[1][0]:\n",
    "        bar.set_facecolor('darkgreen')\n",
    "        bar.set_edgecolor('black')\n",
    "    else: \n",
    "        bar.set_facecolor('lightgreen')\n",
    "        bar.set_edgecolor('black')\n",
    "    \n",
    "plt.vlines(quants, ymin = 0, ymax = max(boot_data), linestyle = '--')\n",
    "plt.xlabel('Медиана разности бутстрапированных подвыборок')\n",
    "plt.ylabel('Частота')\n",
    "plt.title(\"Гистограмма бутстрапа\")\n",
    "plt.show()\n",
    "       \n",
    "print(\"ДИ:\", quants) \n",
    "print()\n",
    "print(\"p_value:\", p_value)"
   ]
  },
  {
   "cell_type": "markdown",
   "metadata": {},
   "source": [
    "#### Вывод"
   ]
  },
  {
   "cell_type": "markdown",
   "metadata": {},
   "source": [
    "Так как p-value значительно превышает уровень значимости 0.05, у нас нет оснований для отклонения нулевой гипотезы: размещение баннера на странице не оказывает существенного влияния на размер покупки."
   ]
  }
 ],
 "metadata": {
  "kernelspec": {
   "display_name": "Python 3",
   "language": "python",
   "name": "python3"
  },
  "language_info": {
   "codemirror_mode": {
    "name": "ipython",
    "version": 3
   },
   "file_extension": ".py",
   "mimetype": "text/x-python",
   "name": "python",
   "nbconvert_exporter": "python",
   "pygments_lexer": "ipython3",
   "version": "3.8.3"
  }
 },
 "nbformat": 4,
 "nbformat_minor": 4
}
